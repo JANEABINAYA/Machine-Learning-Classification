{
 "cells": [
  {
   "cell_type": "code",
   "execution_count": 1,
   "id": "810559b7-01ae-49dd-8996-5c2c33b35da3",
   "metadata": {},
   "outputs": [],
   "source": [
    "import pickle"
   ]
  },
  {
   "cell_type": "code",
   "execution_count": 2,
   "id": "adf02635-2a9a-47d0-9159-cc475de632f6",
   "metadata": {},
   "outputs": [],
   "source": [
    "loaded_model = pickle.load(open('finalized_model_Random Forest.sav', 'rb'))"
   ]
  },
  {
   "cell_type": "code",
   "execution_count": 3,
   "id": "f554e13d-5fe0-4b4a-8d5c-d5f587dba59d",
   "metadata": {},
   "outputs": [
    {
     "name": "stdin",
     "output_type": "stream",
     "text": [
      "Age: 14\n",
      "EstimatedSalary: 2500000\n",
      "Gender_Male: 1\n"
     ]
    }
   ],
   "source": [
    "age_input=float(input(\"Age:\"))\n",
    "EstimatedSalary_input=float(input(\"EstimatedSalary:\"))\n",
    "Gender_Male_input=float(input(\"Gender_Male:\"))"
   ]
  },
  {
   "cell_type": "code",
   "execution_count": 5,
   "id": "8d9d2aed-700c-472f-b724-c007303f536e",
   "metadata": {},
   "outputs": [
    {
     "name": "stdout",
     "output_type": "stream",
     "text": [
      "Future_Prediction=[1]\n"
     ]
    }
   ],
   "source": [
    "Future_Prediction = loaded_model.predict([[age_input,EstimatedSalary_input,Gender_Male_input]])\n",
    "print(\"Future_Prediction={}\".format(Future_Prediction))"
   ]
  },
  {
   "cell_type": "code",
   "execution_count": null,
   "id": "f9b6a0e3-2e6f-4ab3-9a4e-15f5e22576d1",
   "metadata": {},
   "outputs": [],
   "source": []
  }
 ],
 "metadata": {
  "kernelspec": {
   "display_name": "Python 3 (ipykernel)",
   "language": "python",
   "name": "python3"
  },
  "language_info": {
   "codemirror_mode": {
    "name": "ipython",
    "version": 3
   },
   "file_extension": ".py",
   "mimetype": "text/x-python",
   "name": "python",
   "nbconvert_exporter": "python",
   "pygments_lexer": "ipython3",
   "version": "3.12.7"
  }
 },
 "nbformat": 4,
 "nbformat_minor": 5
}
