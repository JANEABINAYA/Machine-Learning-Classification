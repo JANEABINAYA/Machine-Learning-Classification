{
 "cells": [
  {
   "cell_type": "code",
   "execution_count": 1,
   "id": "44c3cfe7-0d6c-46bd-9bb6-f5b9802b75f6",
   "metadata": {},
   "outputs": [],
   "source": [
    "import pickle"
   ]
  },
  {
   "cell_type": "code",
   "execution_count": 6,
   "id": "d16cec8c-93fa-4ce2-9c94-d57b882151e7",
   "metadata": {},
   "outputs": [],
   "source": [
    "loaded_model = pickle.load(open('finalized_model_Logistic Regression.sav', 'rb'))"
   ]
  },
  {
   "cell_type": "code",
   "execution_count": 7,
   "id": "626ebb3c-f432-4fa7-b5a1-987084e97291",
   "metadata": {},
   "outputs": [
    {
     "name": "stdin",
     "output_type": "stream",
     "text": [
      "Age: 12\n",
      "bp: 2\n",
      "al: 54\n",
      "su: 4\n",
      "bgr: 4\n",
      "bu: 2\n",
      "sc: 5\n",
      "sod: 2\n",
      "pot: 1\n",
      "hmro: 1\n",
      "pcv: 2\n",
      "wc: 1\n",
      "rc: 2\n",
      "sg_b: 11\n",
      "sg_c: 01\n",
      "sg_d: 21\n",
      "sg_e: 1\n",
      "rbc_normal: 0\n",
      "pc_normal: 1\n",
      "pcc_pressent: 1\n",
      "ba_present: 1\n",
      "htn_yes: 0\n",
      "dm_yes: 0\n",
      "cad_yes: 0\n",
      "appet_yes: 0\n",
      "pe_yes: 0\n",
      "ane_yes: 0\n"
     ]
    }
   ],
   "source": [
    "age_input=float(input(\"Age:\"))\n",
    "bp_input=float(input(\"bp:\"))\n",
    "al_input=float(input(\"al:\"))\n",
    "su_input=float(input(\"su:\"))\n",
    "bgr_input=float(input(\"bgr:\"))\n",
    "bu_input=float(input(\"bu:\"))\n",
    "sc_input=float(input(\"sc:\"))\n",
    "sod_input=float(input(\"sod:\"))\n",
    "pot_input=float(input(\"pot:\"))\n",
    "hmro_input=float(input(\"hmro:\"))\n",
    "pcv_input=float(input(\"pcv:\"))\n",
    "wc_input=float(input(\"wc:\"))\n",
    "rc_input=float(input(\"rc:\"))\n",
    "sg_b_input=float(input(\"sg_b:\"))\n",
    "sg_c_input=float(input(\"sg_c:\"))\n",
    "sg_d_input=float(input(\"sg_d:\"))\n",
    "sg_e_input=float(input(\"sg_e:\"))\n",
    "rbc_normal_input=float(input(\"rbc_normal:\"))\n",
    "pc_normal_input=float(input(\"pc_normal:\"))\n",
    "pcc_present_input=float(input(\"pcc_pressent:\"))\n",
    "ba_present_input=float(input(\"ba_present:\"))\n",
    "htn_yes_input=float(input(\"htn_yes:\"))\n",
    "dm_yes_input=float(input(\"dm_yes:\"))\n",
    "cad_yes_input=float(input(\"cad_yes:\"))\n",
    "appet_yes_input=float(input(\"appet_yes:\"))\n",
    "pe_yes_input=float(input(\"pe_yes:\"))\n",
    "ane_yes_input=float(input(\"ane_yes:\"))"
   ]
  },
  {
   "cell_type": "code",
   "execution_count": 8,
   "id": "f6c5051a-0a82-49ea-a732-2dd9c805c268",
   "metadata": {},
   "outputs": [
    {
     "name": "stdout",
     "output_type": "stream",
     "text": [
      "Future_Prediction=[1]\n"
     ]
    }
   ],
   "source": [
    "Future_Prediction = loaded_model.predict([[age_input, bp_input, al_input, su_input, bgr_input, bu_input, sc_input, sod_input, pot_input, hmro_input, pcv_input, wc_input, rc_input, sg_b_input, sg_c_input, sg_d_input, sg_e_input, rbc_normal_input, pc_normal_input, pcc_present_input, ba_present_input, htn_yes_input, dm_yes_input, cad_yes_input, appet_yes_input, pe_yes_input, ane_yes_input]])\n",
    "print(\"Future_Prediction={}\".format(Future_Prediction))"
   ]
  },
  {
   "cell_type": "code",
   "execution_count": null,
   "id": "e32dafa3-dd55-4e1f-9078-bb1167822707",
   "metadata": {},
   "outputs": [],
   "source": []
  }
 ],
 "metadata": {
  "kernelspec": {
   "display_name": "Python 3 (ipykernel)",
   "language": "python",
   "name": "python3"
  },
  "language_info": {
   "codemirror_mode": {
    "name": "ipython",
    "version": 3
   },
   "file_extension": ".py",
   "mimetype": "text/x-python",
   "name": "python",
   "nbconvert_exporter": "python",
   "pygments_lexer": "ipython3",
   "version": "3.12.7"
  }
 },
 "nbformat": 4,
 "nbformat_minor": 5
}
